{
 "cells": [
  {
   "cell_type": "code",
   "execution_count": 3,
   "id": "e778150b",
   "metadata": {},
   "outputs": [],
   "source": [
    "import pandas as pd\n",
    "import requests\n",
    "from bs4 import BeautifulSoup"
   ]
  },
  {
   "cell_type": "code",
   "execution_count": 56,
   "id": "22001246",
   "metadata": {},
   "outputs": [],
   "source": [
    "url = \"https://finance.yahoo.com/quote/NTDOY/history?p=NTDOY\"\n",
    "headers = {\"User-Agent\": \"Mozilla/5.0 (X11; Ubuntu; Linux x86_64; rv:89.0) Gecko/20100101 Firefox/89.0\"}\n",
    "\n",
    "data  = requests.get(url).text"
   ]
  },
  {
   "cell_type": "code",
   "execution_count": 57,
   "id": "ced006b2",
   "metadata": {},
   "outputs": [],
   "source": [
    "soup = BeautifulSoup(requests.get(url, headers=headers).content, \"html.parser\")"
   ]
  },
  {
   "cell_type": "code",
   "execution_count": 62,
   "id": "091b6fad",
   "metadata": {},
   "outputs": [],
   "source": [
    "stock_data = pd.DataFrame(columns=[\"Date\", \"Open\", \"High\", \"Low\", \"Close\", \"Adj Close\", \"Volume\"])\n",
    "\n",
    "for row in soup.find(\"tbody\").find_all('tr'):\n",
    "    col = row.find_all(\"td\")\n",
    "    date = col[0].text\n",
    "    Open = col[1].text\n",
    "    high = col[2].text\n",
    "    low = col[3].text\n",
    "    close = col[4].text\n",
    "    adjclose = col[5].text\n",
    "    volume = col[6].text\n",
    "\n",
    "    stock_data = stock_data.append({\"Date\":date, \"Open\":Open, \"High\":high, \"Low\":low, \"Close\":close, \"Adj Close\":adjclose, \"Volume\":volume}, ignore_index=True) "
   ]
  },
  {
   "cell_type": "code",
   "execution_count": 63,
   "id": "8eb111a2",
   "metadata": {},
   "outputs": [
    {
     "data": {
      "text/html": [
       "<div>\n",
       "<style scoped>\n",
       "    .dataframe tbody tr th:only-of-type {\n",
       "        vertical-align: middle;\n",
       "    }\n",
       "\n",
       "    .dataframe tbody tr th {\n",
       "        vertical-align: top;\n",
       "    }\n",
       "\n",
       "    .dataframe thead th {\n",
       "        text-align: right;\n",
       "    }\n",
       "</style>\n",
       "<table border=\"1\" class=\"dataframe\">\n",
       "  <thead>\n",
       "    <tr style=\"text-align: right;\">\n",
       "      <th></th>\n",
       "      <th>Date</th>\n",
       "      <th>Open</th>\n",
       "      <th>High</th>\n",
       "      <th>Low</th>\n",
       "      <th>Close</th>\n",
       "      <th>Adj Close</th>\n",
       "      <th>Volume</th>\n",
       "    </tr>\n",
       "  </thead>\n",
       "  <tbody>\n",
       "    <tr>\n",
       "      <th>0</th>\n",
       "      <td>Apr 07, 2022</td>\n",
       "      <td>63.90</td>\n",
       "      <td>64.54</td>\n",
       "      <td>63.80</td>\n",
       "      <td>63.88</td>\n",
       "      <td>63.88</td>\n",
       "      <td>257,000</td>\n",
       "    </tr>\n",
       "    <tr>\n",
       "      <th>1</th>\n",
       "      <td>Apr 06, 2022</td>\n",
       "      <td>63.50</td>\n",
       "      <td>63.99</td>\n",
       "      <td>63.50</td>\n",
       "      <td>63.87</td>\n",
       "      <td>63.87</td>\n",
       "      <td>237,500</td>\n",
       "    </tr>\n",
       "    <tr>\n",
       "      <th>2</th>\n",
       "      <td>Apr 05, 2022</td>\n",
       "      <td>64.90</td>\n",
       "      <td>64.90</td>\n",
       "      <td>63.30</td>\n",
       "      <td>63.34</td>\n",
       "      <td>63.34</td>\n",
       "      <td>296,200</td>\n",
       "    </tr>\n",
       "    <tr>\n",
       "      <th>3</th>\n",
       "      <td>Apr 04, 2022</td>\n",
       "      <td>65.00</td>\n",
       "      <td>65.68</td>\n",
       "      <td>64.84</td>\n",
       "      <td>65.35</td>\n",
       "      <td>65.35</td>\n",
       "      <td>202,600</td>\n",
       "    </tr>\n",
       "    <tr>\n",
       "      <th>4</th>\n",
       "      <td>Apr 01, 2022</td>\n",
       "      <td>64.40</td>\n",
       "      <td>64.99</td>\n",
       "      <td>64.40</td>\n",
       "      <td>64.84</td>\n",
       "      <td>64.84</td>\n",
       "      <td>284,000</td>\n",
       "    </tr>\n",
       "  </tbody>\n",
       "</table>\n",
       "</div>"
      ],
      "text/plain": [
       "           Date   Open   High    Low  Close Adj Close   Volume\n",
       "0  Apr 07, 2022  63.90  64.54  63.80  63.88     63.88  257,000\n",
       "1  Apr 06, 2022  63.50  63.99  63.50  63.87     63.87  237,500\n",
       "2  Apr 05, 2022  64.90  64.90  63.30  63.34     63.34  296,200\n",
       "3  Apr 04, 2022  65.00  65.68  64.84  65.35     65.35  202,600\n",
       "4  Apr 01, 2022  64.40  64.99  64.40  64.84     64.84  284,000"
      ]
     },
     "execution_count": 63,
     "metadata": {},
     "output_type": "execute_result"
    }
   ],
   "source": [
    "stock_data.head()"
   ]
  },
  {
   "cell_type": "code",
   "execution_count": null,
   "id": "77c95967",
   "metadata": {},
   "outputs": [],
   "source": []
  }
 ],
 "metadata": {
  "kernelspec": {
   "display_name": "Python 3 (ipykernel)",
   "language": "python",
   "name": "python3"
  },
  "language_info": {
   "codemirror_mode": {
    "name": "ipython",
    "version": 3
   },
   "file_extension": ".py",
   "mimetype": "text/x-python",
   "name": "python",
   "nbconvert_exporter": "python",
   "pygments_lexer": "ipython3",
   "version": "3.9.7"
  }
 },
 "nbformat": 4,
 "nbformat_minor": 5
}
