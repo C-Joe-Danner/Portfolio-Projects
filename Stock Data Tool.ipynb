{
 "cells": [
  {
   "cell_type": "code",
   "execution_count": 1,
   "id": "b9abb49a",
   "metadata": {},
   "outputs": [
    {
     "name": "stdout",
     "output_type": "stream",
     "text": [
      "Collecting yfinance==0.1.67\n",
      "  Downloading yfinance-0.1.67-py2.py3-none-any.whl (25 kB)\n",
      "Requirement already satisfied: requests>=2.20 in c:\\users\\joe\\anaconda3\\lib\\site-packages (from yfinance==0.1.67) (2.26.0)\n",
      "Requirement already satisfied: numpy>=1.15 in c:\\users\\joe\\anaconda3\\lib\\site-packages (from yfinance==0.1.67) (1.20.3)\n",
      "Requirement already satisfied: pandas>=0.24 in c:\\users\\joe\\anaconda3\\lib\\site-packages (from yfinance==0.1.67) (1.3.4)\n",
      "Requirement already satisfied: lxml>=4.5.1 in c:\\users\\joe\\anaconda3\\lib\\site-packages (from yfinance==0.1.67) (4.6.3)\n",
      "Collecting multitasking>=0.0.7\n",
      "  Downloading multitasking-0.0.10.tar.gz (8.2 kB)\n",
      "Requirement already satisfied: python-dateutil>=2.7.3 in c:\\users\\joe\\anaconda3\\lib\\site-packages (from pandas>=0.24->yfinance==0.1.67) (2.8.2)\n",
      "Requirement already satisfied: pytz>=2017.3 in c:\\users\\joe\\anaconda3\\lib\\site-packages (from pandas>=0.24->yfinance==0.1.67) (2021.3)\n",
      "Requirement already satisfied: six>=1.5 in c:\\users\\joe\\anaconda3\\lib\\site-packages (from python-dateutil>=2.7.3->pandas>=0.24->yfinance==0.1.67) (1.16.0)\n",
      "Requirement already satisfied: idna<4,>=2.5 in c:\\users\\joe\\anaconda3\\lib\\site-packages (from requests>=2.20->yfinance==0.1.67) (3.2)\n",
      "Requirement already satisfied: charset-normalizer~=2.0.0 in c:\\users\\joe\\anaconda3\\lib\\site-packages (from requests>=2.20->yfinance==0.1.67) (2.0.4)\n",
      "Requirement already satisfied: urllib3<1.27,>=1.21.1 in c:\\users\\joe\\anaconda3\\lib\\site-packages (from requests>=2.20->yfinance==0.1.67) (1.26.7)\n",
      "Requirement already satisfied: certifi>=2017.4.17 in c:\\users\\joe\\anaconda3\\lib\\site-packages (from requests>=2.20->yfinance==0.1.67) (2021.10.8)\n",
      "Building wheels for collected packages: multitasking\n",
      "  Building wheel for multitasking (setup.py): started\n",
      "  Building wheel for multitasking (setup.py): finished with status 'done'\n",
      "  Created wheel for multitasking: filename=multitasking-0.0.10-py3-none-any.whl size=8500 sha256=1e7611b6edf5f51360b164e89b8bbb8e36b37f3cdbcea71cd3d2aa112253a633\n",
      "  Stored in directory: c:\\users\\joe\\appdata\\local\\pip\\cache\\wheels\\f2\\b5\\2c\\59ba95dcf854e542944c75fe3da584e4e3833b319735a0546c\n",
      "Successfully built multitasking\n",
      "Installing collected packages: multitasking, yfinance\n",
      "Successfully installed multitasking-0.0.10 yfinance-0.1.67\n"
     ]
    }
   ],
   "source": [
    "!pip install yfinance==0.1.67"
   ]
  },
  {
   "cell_type": "code",
   "execution_count": 2,
   "id": "cf9b8fba",
   "metadata": {},
   "outputs": [],
   "source": [
    "import yfinance as yf\n",
    "import pandas as pd"
   ]
  },
  {
   "cell_type": "code",
   "execution_count": 23,
   "id": "2c937743",
   "metadata": {},
   "outputs": [],
   "source": [
    "stock = yf.Ticker(\"NTDOY\")"
   ]
  },
  {
   "cell_type": "code",
   "execution_count": 24,
   "id": "96c11cc9",
   "metadata": {},
   "outputs": [
    {
     "data": {
      "text/plain": [
       "{'zip': '601-8501',\n",
       " 'sector': 'Communication Services',\n",
       " 'fullTimeEmployees': 6574,\n",
       " 'longBusinessSummary': 'Nintendo Co., Ltd., together with its subsidiaries, develops, manufactures, and distributes electronic entertainment products in Japan, the Americas, Europe, and internationally. It offers video game platforms, playing cards, Karuta, and other products; and handheld and home console hardware systems and related software. The company was formerly known as Nintendo Playing Card Co., Ltd. and changed its name to Nintendo Co., Ltd. in 1963. Nintendo Co., Ltd. was founded in 1889 and is headquartered in Kyoto, Japan.',\n",
       " 'city': 'Kyoto',\n",
       " 'phone': '81 7 5662 9600',\n",
       " 'country': 'Japan',\n",
       " 'companyOfficers': [],\n",
       " 'website': 'https://www.nintendo.co.jp',\n",
       " 'maxAge': 1,\n",
       " 'address1': '11-1 Hokotate-cho',\n",
       " 'industry': 'Electronic Gaming & Multimedia',\n",
       " 'address2': 'Kamitoba Minami-ku',\n",
       " 'ebitdaMargins': 0.36055002,\n",
       " 'profitMargins': 0.28131,\n",
       " 'grossMargins': 0.55873,\n",
       " 'operatingCashflow': None,\n",
       " 'revenueGrowth': 0.096,\n",
       " 'operatingMargins': 0.35355,\n",
       " 'ebitda': 603805777920,\n",
       " 'targetLowPrice': None,\n",
       " 'recommendationKey': 'strong_buy',\n",
       " 'grossProfits': 970473000000,\n",
       " 'freeCashflow': None,\n",
       " 'targetMedianPrice': None,\n",
       " 'currentPrice': 63.88,\n",
       " 'earningsGrowth': 0.214,\n",
       " 'currentRatio': 3.816,\n",
       " 'returnOnAssets': 0.15306,\n",
       " 'numberOfAnalystOpinions': None,\n",
       " 'targetMeanPrice': None,\n",
       " 'debtToEquity': None,\n",
       " 'returnOnEquity': 0.25738,\n",
       " 'targetHighPrice': None,\n",
       " 'totalCash': 1534269980672,\n",
       " 'totalDebt': 0,\n",
       " 'totalRevenue': 1674666049536,\n",
       " 'totalCashPerShare': 1634.675,\n",
       " 'financialCurrency': 'JPY',\n",
       " 'revenuePerShare': 1766.652,\n",
       " 'quickRatio': 3.379,\n",
       " 'recommendationMean': 1,\n",
       " 'exchange': 'PNK',\n",
       " 'shortName': 'NINTENDO CO LTD ADR(8 CNV INTO ',\n",
       " 'longName': 'Nintendo Co., Ltd.',\n",
       " 'exchangeTimezoneName': 'America/New_York',\n",
       " 'exchangeTimezoneShortName': 'EDT',\n",
       " 'isEsgPopulated': False,\n",
       " 'gmtOffSetMilliseconds': '-14400000',\n",
       " 'quoteType': 'EQUITY',\n",
       " 'symbol': 'NTDOY',\n",
       " 'messageBoardId': 'finmb_875940',\n",
       " 'market': 'us_market',\n",
       " 'annualHoldingsTurnover': None,\n",
       " 'enterpriseToRevenue': -0.88,\n",
       " 'beta3Year': None,\n",
       " 'enterpriseToEbitda': -2.441,\n",
       " '52WeekChange': -0.1399138,\n",
       " 'morningStarRiskRating': None,\n",
       " 'forwardEps': 29.03,\n",
       " 'revenueQuarterlyGrowth': None,\n",
       " 'sharesOutstanding': 938577984,\n",
       " 'fundInceptionDate': None,\n",
       " 'annualReportExpenseRatio': None,\n",
       " 'totalAssets': None,\n",
       " 'bookValue': 2050.384,\n",
       " 'sharesShort': None,\n",
       " 'sharesPercentSharesOut': None,\n",
       " 'fundFamily': None,\n",
       " 'lastFiscalYearEnd': 1617148800,\n",
       " 'heldPercentInstitutions': 0.00461,\n",
       " 'netIncomeToCommon': 471097999360,\n",
       " 'trailingEps': 4.0185,\n",
       " 'lastDividendValue': 0.683547,\n",
       " 'SandP52WeekChange': 0.09371829,\n",
       " 'priceToBook': 0.03115514,\n",
       " 'heldPercentInsiders': 0,\n",
       " 'nextFiscalYearEnd': 1680220800,\n",
       " 'yield': None,\n",
       " 'mostRecentQuarter': 1640908800,\n",
       " 'shortRatio': None,\n",
       " 'sharesShortPreviousMonthDate': None,\n",
       " 'floatShares': 924499180,\n",
       " 'beta': 0.621058,\n",
       " 'enterpriseValue': -1474049081344,\n",
       " 'priceHint': 2,\n",
       " 'threeYearAverageReturn': None,\n",
       " 'lastSplitDate': None,\n",
       " 'lastSplitFactor': None,\n",
       " 'legalType': None,\n",
       " 'lastDividendDate': 1632787200,\n",
       " 'morningStarOverallRating': None,\n",
       " 'earningsQuarterlyGrowth': 0.196,\n",
       " 'priceToSalesTrailing12Months': 0.03595647,\n",
       " 'dateShortInterest': None,\n",
       " 'pegRatio': None,\n",
       " 'ytdReturn': None,\n",
       " 'forwardPE': 2.2004821,\n",
       " 'lastCapGain': None,\n",
       " 'shortPercentOfFloat': None,\n",
       " 'sharesShortPriorMonth': None,\n",
       " 'impliedSharesOutstanding': 0,\n",
       " 'category': None,\n",
       " 'fiveYearAverageReturn': None,\n",
       " 'previousClose': 63.87,\n",
       " 'regularMarketOpen': 63.9,\n",
       " 'twoHundredDayAverage': 61.11955,\n",
       " 'trailingAnnualDividendYield': 31.78331,\n",
       " 'payoutRatio': 0.50740004,\n",
       " 'volume24Hr': None,\n",
       " 'regularMarketDayHigh': 64.54,\n",
       " 'navPrice': None,\n",
       " 'averageDailyVolume10Day': 454200,\n",
       " 'regularMarketPreviousClose': 63.87,\n",
       " 'fiftyDayAverage': 63.2648,\n",
       " 'trailingAnnualDividendRate': 2030,\n",
       " 'open': 63.9,\n",
       " 'toCurrency': None,\n",
       " 'averageVolume10days': 454200,\n",
       " 'expireDate': None,\n",
       " 'algorithm': None,\n",
       " 'dividendRate': 2.28,\n",
       " 'exDividendDate': 1632787200,\n",
       " 'circulatingSupply': None,\n",
       " 'startDate': None,\n",
       " 'regularMarketDayLow': 63.795,\n",
       " 'currency': 'USD',\n",
       " 'trailingPE': 15.89648,\n",
       " 'regularMarketVolume': 257006,\n",
       " 'lastMarket': None,\n",
       " 'maxSupply': None,\n",
       " 'openInterest': None,\n",
       " 'marketCap': 60215074816,\n",
       " 'volumeAllCurrencies': None,\n",
       " 'strikePrice': None,\n",
       " 'averageVolume': 386485,\n",
       " 'dayLow': 63.795,\n",
       " 'ask': 0,\n",
       " 'askSize': 0,\n",
       " 'volume': 257006,\n",
       " 'fiftyTwoWeekHigh': 78.89,\n",
       " 'fromCurrency': None,\n",
       " 'fiveYearAvgDividendYield': 2.32,\n",
       " 'fiftyTwoWeekLow': 52.95,\n",
       " 'bid': 0,\n",
       " 'tradeable': False,\n",
       " 'dividendYield': 0.0356,\n",
       " 'bidSize': 0,\n",
       " 'dayHigh': 64.54,\n",
       " 'regularMarketPrice': 63.88,\n",
       " 'preMarketPrice': None,\n",
       " 'logo_url': 'https://logo.clearbit.com/nintendo.co.jp'}"
      ]
     },
     "execution_count": 24,
     "metadata": {},
     "output_type": "execute_result"
    }
   ],
   "source": [
    "stock_info=stock.info\n",
    "stock_info"
   ]
  },
  {
   "cell_type": "code",
   "execution_count": 25,
   "id": "3b3f5596",
   "metadata": {},
   "outputs": [],
   "source": [
    "stock_price_data = stock.history(period=\"max\")"
   ]
  },
  {
   "cell_type": "code",
   "execution_count": 26,
   "id": "e738e1f9",
   "metadata": {},
   "outputs": [
    {
     "data": {
      "text/html": [
       "<div>\n",
       "<style scoped>\n",
       "    .dataframe tbody tr th:only-of-type {\n",
       "        vertical-align: middle;\n",
       "    }\n",
       "\n",
       "    .dataframe tbody tr th {\n",
       "        vertical-align: top;\n",
       "    }\n",
       "\n",
       "    .dataframe thead th {\n",
       "        text-align: right;\n",
       "    }\n",
       "</style>\n",
       "<table border=\"1\" class=\"dataframe\">\n",
       "  <thead>\n",
       "    <tr style=\"text-align: right;\">\n",
       "      <th></th>\n",
       "      <th>Open</th>\n",
       "      <th>High</th>\n",
       "      <th>Low</th>\n",
       "      <th>Close</th>\n",
       "      <th>Volume</th>\n",
       "      <th>Dividends</th>\n",
       "      <th>Stock Splits</th>\n",
       "    </tr>\n",
       "    <tr>\n",
       "      <th>Date</th>\n",
       "      <th></th>\n",
       "      <th></th>\n",
       "      <th></th>\n",
       "      <th></th>\n",
       "      <th></th>\n",
       "      <th></th>\n",
       "      <th></th>\n",
       "    </tr>\n",
       "  </thead>\n",
       "  <tbody>\n",
       "    <tr>\n",
       "      <th>1996-11-18</th>\n",
       "      <td>5.735726</td>\n",
       "      <td>5.735726</td>\n",
       "      <td>5.496737</td>\n",
       "      <td>5.735726</td>\n",
       "      <td>81300</td>\n",
       "      <td>0.0</td>\n",
       "      <td>0</td>\n",
       "    </tr>\n",
       "    <tr>\n",
       "      <th>1996-11-19</th>\n",
       "      <td>5.735726</td>\n",
       "      <td>5.735726</td>\n",
       "      <td>5.496737</td>\n",
       "      <td>5.735726</td>\n",
       "      <td>138100</td>\n",
       "      <td>0.0</td>\n",
       "      <td>0</td>\n",
       "    </tr>\n",
       "    <tr>\n",
       "      <th>1996-11-20</th>\n",
       "      <td>5.775557</td>\n",
       "      <td>5.895051</td>\n",
       "      <td>5.417074</td>\n",
       "      <td>5.775557</td>\n",
       "      <td>56000</td>\n",
       "      <td>0.0</td>\n",
       "      <td>0</td>\n",
       "    </tr>\n",
       "    <tr>\n",
       "      <th>1996-11-21</th>\n",
       "      <td>5.735726</td>\n",
       "      <td>5.815389</td>\n",
       "      <td>5.456906</td>\n",
       "      <td>5.735726</td>\n",
       "      <td>91700</td>\n",
       "      <td>0.0</td>\n",
       "      <td>0</td>\n",
       "    </tr>\n",
       "    <tr>\n",
       "      <th>1996-11-22</th>\n",
       "      <td>5.815389</td>\n",
       "      <td>5.895052</td>\n",
       "      <td>5.576401</td>\n",
       "      <td>5.815389</td>\n",
       "      <td>200100</td>\n",
       "      <td>0.0</td>\n",
       "      <td>0</td>\n",
       "    </tr>\n",
       "  </tbody>\n",
       "</table>\n",
       "</div>"
      ],
      "text/plain": [
       "                Open      High       Low     Close  Volume  Dividends  \\\n",
       "Date                                                                    \n",
       "1996-11-18  5.735726  5.735726  5.496737  5.735726   81300        0.0   \n",
       "1996-11-19  5.735726  5.735726  5.496737  5.735726  138100        0.0   \n",
       "1996-11-20  5.775557  5.895051  5.417074  5.775557   56000        0.0   \n",
       "1996-11-21  5.735726  5.815389  5.456906  5.735726   91700        0.0   \n",
       "1996-11-22  5.815389  5.895052  5.576401  5.815389  200100        0.0   \n",
       "\n",
       "            Stock Splits  \n",
       "Date                      \n",
       "1996-11-18             0  \n",
       "1996-11-19             0  \n",
       "1996-11-20             0  \n",
       "1996-11-21             0  \n",
       "1996-11-22             0  "
      ]
     },
     "execution_count": 26,
     "metadata": {},
     "output_type": "execute_result"
    }
   ],
   "source": [
    "stock_price_data.head()"
   ]
  },
  {
   "cell_type": "code",
   "execution_count": 27,
   "id": "4d3dcdd5",
   "metadata": {},
   "outputs": [],
   "source": [
    "stock_price_data.reset_index(inplace=True)"
   ]
  },
  {
   "cell_type": "code",
   "execution_count": 28,
   "id": "2b537617",
   "metadata": {},
   "outputs": [
    {
     "data": {
      "text/plain": [
       "<AxesSubplot:xlabel='Date'>"
      ]
     },
     "execution_count": 28,
     "metadata": {},
     "output_type": "execute_result"
    },
    {
     "data": {
      "image/png": "[encoded data removed]",
      "text/plain": [
       "<Figure size 432x288 with 1 Axes>"
      ]
     },
     "metadata": {
      "needs_background": "light"
     },
     "output_type": "display_data"
    }
   ],
   "source": [
    "stock_price_data.plot(x=\"Date\", y=\"Open\")"
   ]
  },
  {
   "cell_type": "code",
   "execution_count": 29,
   "id": "65413b7e",
   "metadata": {},
   "outputs": [
    {
     "data": {
      "text/plain": [
       "Date\n",
       "1997-03-25    0.067856\n",
       "1997-09-25    0.060317\n",
       "1998-03-26    0.076652\n",
       "1998-09-25    0.079166\n",
       "1999-03-26    0.076652\n",
       "1999-09-27    0.065343\n",
       "2000-03-28    0.061573\n",
       "2000-09-26    0.059060\n",
       "2001-03-27    0.051520\n",
       "2001-09-25    0.050264\n",
       "2002-03-26    0.050264\n",
       "2002-09-25    0.062830\n",
       "2003-03-26    0.077909\n",
       "2003-09-25    0.071626\n",
       "2004-03-26    0.080422\n",
       "2004-09-27    0.082935\n",
       "2005-03-28    0.084192\n",
       "2005-09-27    0.079166\n",
       "2006-03-28    0.379203\n",
       "2006-09-27    0.075471\n",
       "2007-03-28    0.788804\n",
       "2007-09-26    0.198128\n",
       "2008-03-26    1.654184\n",
       "2008-09-25    1.088389\n",
       "2009-03-26    1.270018\n",
       "2009-09-25    0.485686\n",
       "2010-03-26    1.168104\n",
       "2010-09-27    0.212806\n",
       "2011-03-28    0.501951\n",
       "2012-03-27    0.197131\n",
       "2014-03-26    0.123237\n",
       "2015-03-26    0.182644\n",
       "2015-09-25    0.030443\n",
       "2016-03-28    0.145683\n",
       "2017-03-28    0.479168\n",
       "2017-09-28    0.122057\n",
       "2018-03-28    0.541907\n",
       "2018-09-27    0.186764\n",
       "2019-03-28    0.741633\n",
       "2019-09-26    0.308339\n",
       "2020-03-27    0.951196\n",
       "2020-09-28    0.968700\n",
       "2021-03-29    1.592622\n",
       "2021-09-28    0.683547\n",
       "Name: Dividends, dtype: float64"
      ]
     },
     "execution_count": 29,
     "metadata": {},
     "output_type": "execute_result"
    }
   ],
   "source": [
    "stock.dividends"
   ]
  },
  {
   "cell_type": "code",
   "execution_count": 30,
   "id": "1593303d",
   "metadata": {},
   "outputs": [
    {
     "data": {
      "text/plain": [
       "<AxesSubplot:xlabel='Date'>"
      ]
     },
     "execution_count": 30,
     "metadata": {},
     "output_type": "execute_result"
    },
    {
     "data": {
      "image/png": "[encoded data removed]",
      "text/plain": [
       "<Figure size 432x288 with 1 Axes>"
      ]
     },
     "metadata": {
      "needs_background": "light"
     },
     "output_type": "display_data"
    }
   ],
   "source": [
    "stock.dividends.plot()"
   ]
  },
  {
   "cell_type": "code",
   "execution_count": null,
   "id": "406accef",
   "metadata": {},
   "outputs": [],
   "source": []
  }
 ],
 "metadata": {
  "kernelspec": {
   "display_name": "Python 3 (ipykernel)",
   "language": "python",
   "name": "python3"
  },
  "language_info": {
   "codemirror_mode": {
    "name": "ipython",
    "version": 3
   },
   "file_extension": ".py",
   "mimetype": "text/x-python",
   "name": "python",
   "nbconvert_exporter": "python",
   "pygments_lexer": "ipython3",
   "version": "3.9.7"
  }
 },
 "nbformat": 4,
 "nbformat_minor": 5
}
