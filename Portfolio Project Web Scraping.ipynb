{
 "cells": [
  {
   "cell_type": "code",
   "execution_count": 55,
   "id": "56cc0fec",
   "metadata": {},
   "outputs": [],
   "source": [
    "# Import libraries \n",
    "\n",
    "from bs4 import BeautifulSoup\n",
    "import requests\n",
    "import time\n",
    "import datetime\n",
    "import smtplib\n",
    "import datetime\n",
    "today = datetime.date.today()\n"
   ]
  },
  {
   "cell_type": "code",
   "execution_count": 60,
   "id": "9aebdb4f",
   "metadata": {},
   "outputs": [],
   "source": [
    "# Web Scraper Build\n",
    "\n",
    "def check_price():\n",
    "    URL = 'https://www.amazon.com/Arcknight-Spell-Effects-Generic-Set/dp/B0815V7WKM/ref=sr_1_21?keywords=dnd&qid=1648971686&sr=8-21&th=1'\n",
    "    headers = {\"User-Agent\": \"Mozilla/5.0 (Windows NT 10.0; Win64; x64) AppleWebKit/537.36 (KHTML, like Gecko) Chrome/99.0.4844.84 Safari/537.36\", \"Accept-Encoding\":\"gzip, deflate\", \"Accept\":\"text/html,application/xhtml+xml,application/xml;q=0.9,*/*;q=0.8\", \"DNT\":\"1\",\"Connection\":\"close\", \"Upgrade-Insecure-Requests\":\"1\"}\n",
    "    page = requests.get(URL, headers=headers)\n",
    "\n",
    "    soup1 = BeautifulSoup(page.content, 'html.parser')\n",
    "    soup2 = BeautifulSoup(soup1.prettify(), 'html.parser')\n",
    "\n",
    "    title = soup2.find(id='productTitle').get_text()\n",
    "    price = soup2.find(id='edition_0_price').get_text()\n",
    "\n",
    "    title = title.strip()\n",
    "    price = price.strip()[1:]\n",
    "\n",
    "    import csv\n",
    "\n",
    "    header = ['Title', 'Price', 'Date']\n",
    "    data = [title, price, today]\n",
    "\n",
    "    with open('PortfolioWebScraperDataset.csv', 'a+', newline='', encoding='UTF8') as f:\n",
    "        writer = csv.writer(f)\n",
    "        writer.writerow(header)\n",
    "        writer.writerow(data)\n",
    "    \n",
    "    while(True):\n",
    "        check_price()\n",
    "        time.sleep(86400)\n",
    "    \n",
    "    if(listPrice < 40):\n",
    "        send_mail\n"
   ]
  },
  {
   "cell_type": "code",
   "execution_count": null,
   "id": "b73996a3",
   "metadata": {},
   "outputs": [],
   "source": [
    "# Email Alert\n",
    "\n",
    "def send_mail():\n",
    "    server = smtplib.SMTP_SSL('smtp.gmail.com',465)\n",
    "    server.ehlo()\n",
    "    #server.starttls()\n",
    "    server.ehlo()\n",
    "    server.login('C.Joe.Danner@gmail.com','xxxxxxxxxxxxxx')\n",
    "    \n",
    "    subject = \"D&D for Everyone!\"\n",
    "    body = \"Joe, the game is on! Link here: https://www.amazon.com/Arcknight-Spell-Effects-Generic-Set/dp/B0815V7WKM/ref=sr_1_21?keywords=dnd&qid=1648971686&sr=8-21&th=1\"\n",
    "   \n",
    "    msg = f\"Subject: {subject}\\n\\n{body}\"\n",
    "    \n",
    "    server.sendmail('C.Joe.Danner@gmail.com', msg)"
   ]
  }
 ],
 "metadata": {
  "kernelspec": {
   "display_name": "Python 3 (ipykernel)",
   "language": "python",
   "name": "python3"
  },
  "language_info": {
   "codemirror_mode": {
    "name": "ipython",
    "version": 3
   },
   "file_extension": ".py",
   "mimetype": "text/x-python",
   "name": "python",
   "nbconvert_exporter": "python",
   "pygments_lexer": "ipython3",
   "version": "3.9.7"
  }
 },
 "nbformat": 4,
 "nbformat_minor": 5
}
